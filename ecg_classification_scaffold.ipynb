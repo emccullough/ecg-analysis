{
 "cells": [
  {
   "cell_type": "markdown",
   "id": "99a59a13",
   "metadata": {},
   "source": [
    "\n",
    "# 🫀 ECG Beat Classification & Visualization (20s Samples at 125Hz)\n",
    "\n",
    "This notebook loads ECG `.csv` files from a folder, preprocesses them, resamples to 500Hz, applies a pretrained deep learning model to classify rhythms (e.g., PVC, VT), and visualizes the results using interactive widgets.\n"
   ]
  },
  {
   "cell_type": "code",
   "execution_count": 1,
   "id": "d03f7f4f",
   "metadata": {},
   "outputs": [
    {
     "ename": "ModuleNotFoundError",
     "evalue": "No module named 'torch'",
     "output_type": "error",
     "traceback": [
      "\u001b[0;31m---------------------------------------------------------------------------\u001b[0m",
      "\u001b[0;31mModuleNotFoundError\u001b[0m                       Traceback (most recent call last)",
      "Cell \u001b[0;32mIn[1], line 4\u001b[0m\n\u001b[1;32m      2\u001b[0m \u001b[38;5;28;01mimport\u001b[39;00m \u001b[38;5;21;01mpandas\u001b[39;00m \u001b[38;5;28;01mas\u001b[39;00m \u001b[38;5;21;01mpd\u001b[39;00m\n\u001b[1;32m      3\u001b[0m \u001b[38;5;28;01mimport\u001b[39;00m \u001b[38;5;21;01mnumpy\u001b[39;00m \u001b[38;5;28;01mas\u001b[39;00m \u001b[38;5;21;01mnp\u001b[39;00m\n\u001b[0;32m----> 4\u001b[0m \u001b[38;5;28;01mimport\u001b[39;00m \u001b[38;5;21;01mtorch\u001b[39;00m\n\u001b[1;32m      5\u001b[0m \u001b[38;5;28;01mfrom\u001b[39;00m \u001b[38;5;21;01mtorch_ecg\u001b[39;00m\u001b[38;5;21;01m.\u001b[39;00m\u001b[38;5;21;01mmodels\u001b[39;00m \u001b[38;5;28;01mimport\u001b[39;00m ECG_CRNN_CINC2021\n\u001b[1;32m      6\u001b[0m \u001b[38;5;28;01mfrom\u001b[39;00m \u001b[38;5;21;01mtorch_ecg\u001b[39;00m\u001b[38;5;21;01m.\u001b[39;00m\u001b[38;5;21;01mmodel_configs\u001b[39;00m \u001b[38;5;28;01mimport\u001b[39;00m ECG_CRNN_CINC2021_CONFIG\n",
      "\u001b[0;31mModuleNotFoundError\u001b[0m: No module named 'torch'"
     ]
    }
   ],
   "source": [
    "\n",
    "from pathlib import Path\n",
    "import pandas as pd\n",
    "import numpy as np\n",
    "import torch\n",
    "from torch_ecg.models import ECG_CRNN_CINC2021\n",
    "from torch_ecg.model_configs import ECG_CRNN_CINC2021_CONFIG\n",
    "from torch_ecg.utils.utils_signal import resample_poly\n",
    "from ipywidgets import interact, widgets\n",
    "import matplotlib.pyplot as plt\n",
    "\n",
    "# Set data directory (adjust if needed)\n",
    "data_dir = Path(\"./Data/Sleep_on_20240809_230342_by_Etienne_5010176_94DEB87F66D7_RAWECG/\")\n",
    "\n",
    "# Load all ECG files\n",
    "ecg_files = sorted(data_dir.glob(\"ecg_*.csv\"))\n",
    "print(f\"Found {len(ecg_files)} ECG files.\")\n"
   ]
  },
  {
   "cell_type": "code",
   "execution_count": null,
   "id": "da6a6fd2",
   "metadata": {},
   "outputs": [],
   "source": [
    "\n",
    "# Load pretrained model\n",
    "config = ECG_CRNN_CINC2021_CONFIG\n",
    "model = ECG_CRNN_CINC2021(config)\n",
    "model.eval()\n",
    "\n",
    "# If you have pretrained weights, you can load them here\n",
    "# model.load_state_dict(torch.load(\"path_to_weights.pt\"))\n"
   ]
  },
  {
   "cell_type": "code",
   "execution_count": null,
   "id": "d90502ba",
   "metadata": {},
   "outputs": [],
   "source": [
    "\n",
    "def prepare_input(ecg_data, original_fs=125):\n",
    "    ecg_resampled = resample_poly(ecg_data, 500, original_fs)\n",
    "    ecg_tensor = torch.tensor(ecg_resampled).float().unsqueeze(0).unsqueeze(0)\n",
    "    return ecg_tensor\n",
    "\n",
    "def classify_ecg(model, ecg_tensor):\n",
    "    with torch.no_grad():\n",
    "        pred = model(ecg_tensor)\n",
    "    return torch.sigmoid(pred).numpy().flatten()\n"
   ]
  },
  {
   "cell_type": "code",
   "execution_count": null,
   "id": "be98a606",
   "metadata": {},
   "outputs": [],
   "source": [
    "\n",
    "labels = config.classes\n",
    "\n",
    "def view_file(file_idx):\n",
    "    file = ecg_files[file_idx]\n",
    "    ecg = pd.read_csv(file, header=None).squeeze().values\n",
    "    ecg_tensor = prepare_input(ecg)\n",
    "    preds = classify_ecg(model, ecg_tensor)\n",
    "\n",
    "    # Plot ECG\n",
    "    plt.figure(figsize=(12, 4))\n",
    "    plt.plot(np.arange(len(ecg)) / 125, ecg)\n",
    "    plt.title(f\"{file.name} - Prediction\")\n",
    "    plt.xlabel(\"Time (s)\")\n",
    "    plt.ylabel(\"Amplitude\")\n",
    "    plt.grid(True)\n",
    "    plt.show()\n",
    "\n",
    "    # Show predictions with probability > 0.3\n",
    "    print(\"Predicted rhythms:\")\n",
    "    for lbl, prob in zip(labels, preds):\n",
    "        if prob > 0.3:\n",
    "            print(f\"  {lbl}: {prob:.2f}\")\n",
    "\n",
    "interact(view_file, file_idx=widgets.IntSlider(min=0, max=len(ecg_files)-1, step=1, value=0));\n"
   ]
  }
 ],
 "metadata": {
  "kernelspec": {
   "display_name": "Python 3 (ipykernel)",
   "language": "python",
   "name": "python3"
  },
  "language_info": {
   "codemirror_mode": {
    "name": "ipython",
    "version": 3
   },
   "file_extension": ".py",
   "mimetype": "text/x-python",
   "name": "python",
   "nbconvert_exporter": "python",
   "pygments_lexer": "ipython3",
   "version": "3.13.2"
  }
 },
 "nbformat": 4,
 "nbformat_minor": 5
}
